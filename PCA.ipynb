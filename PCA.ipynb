{
  "cells": [
    {
      "cell_type": "code",
      "execution_count": null,
      "metadata": {
        "id": "phVPCL-0Mr2X"
      },
      "outputs": [
        {
          "ename": "",
          "evalue": "",
          "output_type": "error",
          "traceback": [
            "\u001b[1;31mRunning cells with 'pca (Python 3.10.19)' requires the ipykernel package.\n",
            "\u001b[1;31mInstall 'ipykernel' into the Python environment. \n",
            "\u001b[1;31mCommand: 'conda install -p c:\\Users\\DELL\\OneDrive\\Desktop\\PCA\\pca ipykernel --update-deps --force-reinstall'"
          ]
        }
      ],
      "source": [
        "import pandas as pd\n",
        "train = pd.read_csv('optdigits.tra', header=None)\n",
        "test = pd.read_csv('optdigits.tes', header=None)\n",
        "df = pd.concat([train, test], ignore_index=True)\n",
        "X = df.iloc[:, :-1]\n",
        "y = df.iloc[:, -1]"
      ]
    },
    {
      "cell_type": "code",
      "execution_count": null,
      "metadata": {},
      "outputs": [],
      "source": [
        "X"
      ]
    },
    {
      "cell_type": "code",
      "execution_count": null,
      "metadata": {
        "colab": {
          "base_uri": "https://localhost:8080/"
        },
        "id": "sh6OqottPGMz",
        "outputId": "81603ba0-fdc7-46f9-adba-55714770fdac"
      },
      "outputs": [],
      "source": [
        "X.shape"
      ]
    },
    {
      "cell_type": "code",
      "execution_count": null,
      "metadata": {
        "colab": {
          "base_uri": "https://localhost:8080/",
          "height": 429
        },
        "id": "lgE8ThwFPNiR",
        "outputId": "3d3495f9-63f3-4c05-a9ec-82da8e45c7de"
      },
      "outputs": [],
      "source": [
        "y.value_counts()"
      ]
    },
    {
      "cell_type": "code",
      "execution_count": null,
      "metadata": {
        "colab": {
          "base_uri": "https://localhost:8080/",
          "height": 458
        },
        "id": "VkImBQoDPRr8",
        "outputId": "a59124e9-ca6c-4f0d-da2c-4d800bd48ad6"
      },
      "outputs": [],
      "source": [
        "X.isnull().sum()"
      ]
    },
    {
      "cell_type": "code",
      "execution_count": null,
      "metadata": {
        "colab": {
          "base_uri": "https://localhost:8080/",
          "height": 349
        },
        "id": "zyBmXVigPaws",
        "outputId": "67df2acf-50b7-4ff9-af5a-3beb3026c36a"
      },
      "outputs": [],
      "source": [
        "X.describe()"
      ]
    },
    {
      "cell_type": "code",
      "execution_count": null,
      "metadata": {
        "colab": {
          "base_uri": "https://localhost:8080/",
          "height": 410
        },
        "id": "NLdiKAAcO7c_",
        "outputId": "d52400c1-a050-41b6-92c6-589f0af5a312"
      },
      "outputs": [],
      "source": [
        "import matplotlib.pyplot as plt\n",
        "import numpy as np\n",
        "fig, axes = plt.subplots(2, 5, figsize=(10,4))\n",
        "for ax, idx in zip(axes.flatten(), np.random.choice(len(X), 10, replace=False)):\n",
        "    ax.imshow(X.iloc[idx].values.reshape(8,8), cmap='gray_r')\n",
        "    ax.set_title(f\"Label: {y.iloc[idx]}\")\n",
        "    ax.axis('off')\n",
        "plt.tight_layout()\n",
        "plt.show()"
      ]
    },
    {
      "cell_type": "code",
      "execution_count": null,
      "metadata": {
        "id": "JNR3tmePPzri"
      },
      "outputs": [],
      "source": [
        "from sklearn.preprocessing import StandardScaler\n",
        "\n",
        "scaler = StandardScaler()\n",
        "X_scaled = scaler.fit_transform(X)\n"
      ]
    },
    {
      "cell_type": "code",
      "execution_count": null,
      "metadata": {
        "colab": {
          "base_uri": "https://localhost:8080/"
        },
        "id": "HLiUJdP3P0hr",
        "outputId": "98b97514-4b75-491f-bc57-e3db4ec378e5"
      },
      "outputs": [],
      "source": [
        "from sklearn.decomposition import PCA\n",
        "\n",
        "pca2 = PCA(n_components=2)\n",
        "X_pca2 = pca2.fit_transform(X_scaled)\n",
        "\n",
        "print(\"Explained variance ratio:\", pca2.explained_variance_ratio_)\n",
        "print(\"Total variance retained:\", pca2.explained_variance_ratio_.sum())\n"
      ]
    },
    {
      "cell_type": "code",
      "execution_count": null,
      "metadata": {
        "colab": {
          "base_uri": "https://localhost:8080/",
          "height": 564
        },
        "id": "tf6dQT4fP4-F",
        "outputId": "8e4f9668-a07a-4457-9f32-45179fc29440"
      },
      "outputs": [],
      "source": [
        "import seaborn as sns\n",
        "plt.figure(figsize=(8,6))\n",
        "sns.scatterplot(x=X_pca2[:,0], y=X_pca2[:,1], hue=y, palette='tab10', s=40, alpha=0.8)\n",
        "plt.title(\"PCA (2D) of Handwritten Digits\")\n",
        "plt.xlabel(\"Principal Component 1\")\n",
        "plt.ylabel(\"Principal Component 2\")\n",
        "plt.show()"
      ]
    },
    {
      "cell_type": "code",
      "execution_count": null,
      "metadata": {
        "colab": {
          "base_uri": "https://localhost:8080/",
          "height": 472
        },
        "id": "F9h7bFs0P8E_",
        "outputId": "7888ae3d-4f38-4929-bc83-2d8a75f1beab"
      },
      "outputs": [],
      "source": [
        "pca = PCA().fit(X_scaled)\n",
        "plt.plot(np.cumsum(pca.explained_variance_ratio_))\n",
        "plt.xlabel('Number of Components')\n",
        "plt.ylabel('Cumulative Explained Variance')\n",
        "plt.title('Explained Variance by PCA Components')\n",
        "plt.grid()\n",
        "plt.show()"
      ]
    },
    {
      "cell_type": "code",
      "execution_count": null,
      "metadata": {
        "colab": {
          "base_uri": "https://localhost:8080/"
        },
        "id": "cCMJZFedP-wE",
        "outputId": "08f9ebd6-3bd1-49d2-dcaa-1f022dc24d64"
      },
      "outputs": [],
      "source": [
        "pca20 = PCA(n_components=20)\n",
        "X_pca20 = pca20.fit_transform(X_scaled)\n",
        "print(f\"Variance retained: {pca20.explained_variance_ratio_.sum():.2f}\")"
      ]
    },
    {
      "cell_type": "code",
      "execution_count": null,
      "metadata": {
        "colab": {
          "base_uri": "https://localhost:8080/"
        },
        "id": "BE97s1ryQCwY",
        "outputId": "0e81b683-92fb-4ae6-9a1d-efe8a1855b8b"
      },
      "outputs": [],
      "source": [
        "from sklearn.cluster import KMeans\n",
        "from sklearn.metrics import adjusted_rand_score, normalized_mutual_info_score\n",
        "kmeans = KMeans(n_clusters=10, random_state=42)\n",
        "clusters = kmeans.fit_predict(X_pca20)\n",
        "print(\"ARI:\", adjusted_rand_score(y, clusters))\n",
        "print(\"NMI:\", normalized_mutual_info_score(y, clusters))"
      ]
    },
    {
      "cell_type": "code",
      "execution_count": null,
      "metadata": {
        "colab": {
          "base_uri": "https://localhost:8080/",
          "height": 346
        },
        "id": "YVPcZNCJQFtb",
        "outputId": "f60a77ac-b07a-4cd8-f954-df3af15a13e7"
      },
      "outputs": [],
      "source": [
        "centroids = kmeans.cluster_centers_[:, :64]  # if you used 64-feature PCA\n",
        "for i in range(10):\n",
        "    plt.subplot(2,5,i+1)\n",
        "    plt.imshow(pca20.inverse_transform(kmeans.cluster_centers_[i]).reshape(8,8), cmap='gray_r')\n",
        "    plt.title(f\"C{i}\")\n",
        "    plt.axis('off')\n",
        "plt.show()"
      ]
    },
    {
      "cell_type": "code",
      "execution_count": null,
      "metadata": {
        "colab": {
          "base_uri": "https://localhost:8080/"
        },
        "id": "kCqQ-6LYQI6Y",
        "outputId": "01b47e6a-9479-48c3-ce07-0d095c112bc2"
      },
      "outputs": [],
      "source": [
        "from sklearn.model_selection import train_test_split\n",
        "from sklearn.ensemble import RandomForestClassifier\n",
        "from sklearn.metrics import classification_report\n",
        "\n",
        "X_train, X_test, y_train, y_test = train_test_split(X_pca20, y, test_size=0.3, random_state=42, stratify=y)\n",
        "\n",
        "clf = RandomForestClassifier(n_estimators=200, random_state=42)\n",
        "clf.fit(X_train, y_train)\n",
        "y_pred = clf.predict(X_test)\n",
        "print(classification_report(y_test, y_pred))"
      ]
    }
  ],
  "metadata": {
    "colab": {
      "provenance": []
    },
    "kernelspec": {
      "display_name": "Python 3",
      "language": "python",
      "name": "python3"
    },
    "language_info": {
      "codemirror_mode": {
        "name": "ipython",
        "version": 3
      },
      "file_extension": ".py",
      "mimetype": "text/x-python",
      "name": "python",
      "nbconvert_exporter": "python",
      "pygments_lexer": "ipython3",
      "version": "3.10.19"
    }
  },
  "nbformat": 4,
  "nbformat_minor": 0
}
